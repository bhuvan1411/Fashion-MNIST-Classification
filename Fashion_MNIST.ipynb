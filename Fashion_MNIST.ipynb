# Import necessary libraries
import tensorflow as tf
from tensorflow.keras import layers, models
from tensorflow.keras.datasets import fashion_mnist
import matplotlib.pyplot as plt
import numpy as np

# Load the Fashion MNIST dataset
(x_train, y_train), (x_test, y_test) = fashion_mnist.load_data()

# Normalize and reshape the data
x_train = x_train.astype('float32') / 255.0  # Normalize to [0, 1]
x_test = x_test.astype('float32') / 255.0  # Normalize to [0, 1]
x_train = x_train.reshape(-1, 28, 28, 1)  # Reshape to add channel dimension
x_test = x_test.reshape(-1, 28, 28, 1)  # Reshape to add channel dimension

# Define the model architecture
model = models.Sequential([
    layers.Conv2D(32, (3, 3), activation='relu', input_shape=(28, 28, 1)),
    layers.MaxPooling2D((2, 2)),
    layers.Conv2D(64, (3, 3), activation='relu'),
    layers.MaxPooling2D((2, 2)),
    layers.Conv2D(64, (3, 3), activation='relu'),
    layers.Flatten(),
    layers.Dense(64, activation='relu'),
    layers.Dense(10, activation='softmax')
])

# Compile the model
model.compile(optimizer='adam',
              loss='sparse_categorical_crossentropy',
              metrics=['accuracy'])

# Display the model summary
model.summary()  # Display the model architecture

# Train the model
history = model.fit(x_train, y_train, epochs=10, validation_data=(x_test, y_test))

# Evaluate the model
test_loss, test_acc = model.evaluate(x_test, y_test, verbose=2)
print(f'\nTest accuracy: {test_acc}')

# Plot training & validation accuracy and loss values
plt.figure(figsize=(12, 4))

# Accuracy plot
plt.subplot(1, 2, 1)
plt.plot(history.history['accuracy'], label='Train Accuracy')
plt.plot(history.history['val_accuracy'], label='Test Accuracy')
plt.title('Model Accuracy')
plt.ylabel('Accuracy')
plt.xlabel('Epoch')
plt.legend()

# Loss plot
plt.subplot(1, 2, 2)
plt.plot(history.history['loss'], label='Train Loss')
plt.plot(history.history['val_loss'], label='Test Loss')
plt.title('Model Loss')
plt.ylabel('Loss')
plt.xlabel('Epoch')
plt.legend()

plt.show()

# Save the model
model.save('fashion_mnist_model.keras')

# Generate predictions
predictions = model.predict(x_test)

# Function to plot predictions
def plot_predictions(x, y_true, y_pred, num_images=5):
    plt.figure(figsize=(12, 5))  # Set the figure size
    for i in range(num_images):
        plt.subplot(1, num_images, i + 1)  # Create subplots for each image
        plt.imshow(x[i].reshape(28, 28), cmap='gray')  # Display the image
        plt.title(f'Predicted: {np.argmax(y_pred[i])}\nActual: {y_true[i]}')  # Show predicted and actual labels
        plt.axis('off')  # Hide the axes
    plt.show()  # Display the plot

# Plot predictions for a sample of test images
plot_predictions(x_test, y_test, predictions)
